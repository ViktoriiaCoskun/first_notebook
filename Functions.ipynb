{
 "cells": [
  {
   "cell_type": "markdown",
   "id": "1cc33704-92be-4e95-928b-6a3f75cdf83b",
   "metadata": {},
   "source": [
    "#to create a function we use : def <function_name>(parameters):\n",
    "\n",
    "def add(a,b):\n",
    "    return a+b\n",
    "\n",
    "print (\"sum = \" , add(5,6))"
   ]
  },
  {
   "cell_type": "code",
   "execution_count": 2,
   "id": "aba5ac88-6d6a-48bf-982e-87b8309de253",
   "metadata": {},
   "outputs": [
    {
     "name": "stdout",
     "output_type": "stream",
     "text": [
      "sum =  11\n"
     ]
    }
   ],
   "source": [
    "#to create a function we use : def <function_name>(parameters):\n",
    "\n",
    "def add(a,b):\n",
    "    return a+b\n",
    "\n",
    "print (\"sum = \" , add(5,6))"
   ]
  },
  {
   "cell_type": "code",
   "execution_count": null,
   "id": "c3014244-e27b-4812-93ce-60c7f4525195",
   "metadata": {},
   "outputs": [],
   "source": []
  }
 ],
 "metadata": {
  "kernelspec": {
   "display_name": "Python 3 (ipykernel)",
   "language": "python",
   "name": "python3"
  },
  "language_info": {
   "codemirror_mode": {
    "name": "ipython",
    "version": 3
   },
   "file_extension": ".py",
   "mimetype": "text/x-python",
   "name": "python",
   "nbconvert_exporter": "python",
   "pygments_lexer": "ipython3",
   "version": "3.9.13"
  }
 },
 "nbformat": 4,
 "nbformat_minor": 5
}
